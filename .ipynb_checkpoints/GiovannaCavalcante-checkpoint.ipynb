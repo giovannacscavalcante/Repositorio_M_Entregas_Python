{
 "cells": [
  {
   "cell_type": "markdown",
   "id": "53f6e3da",
   "metadata": {},
   "source": [
    "# Meu primeiro programa em Python para Lógica de Programação"
   ]
  },
  {
   "cell_type": "code",
   "execution_count": 2,
   "id": "8d7ddb15",
   "metadata": {},
   "outputs": [
    {
     "name": "stdout",
     "output_type": "stream",
     "text": [
      "Olá aluno Cetam! Iniciamos com Python \n"
     ]
    }
   ],
   "source": [
    "print(\"Giovanna Cavalcante. Iniciando com Python \")"
   ]
  },
  {
   "cell_type": "code",
   "execution_count": 3,
   "id": "74f32329",
   "metadata": {},
   "outputs": [
    {
     "data": {
      "text/plain": [
       "25"
      ]
     },
     "execution_count": 3,
     "metadata": {},
     "output_type": "execute_result"
    }
   ],
   "source": [
    "10+15"
   ]
  },
  {
   "cell_type": "code",
   "execution_count": null,
   "id": "05a6b73e",
   "metadata": {},
   "outputs": [],
   "source": [
    "print(\"Olá mundo!\")\n"
   ]
  },
  {
   "cell_type": "code",
   "execution_count": 4,
   "id": "9b795aa2",
   "metadata": {},
   "outputs": [
    {
     "name": "stdout",
     "output_type": "stream",
     "text": [
      "2\n"
     ]
    }
   ],
   "source": [
    "print(2)"
   ]
  },
  {
   "cell_type": "code",
   "execution_count": 5,
   "id": "2c3e3e0a",
   "metadata": {},
   "outputs": [
    {
     "name": "stdout",
     "output_type": "stream",
     "text": [
      "Olá mundo 2!\n"
     ]
    }
   ],
   "source": [
    "print('Olá mundo 2!')"
   ]
  },
  {
   "cell_type": "markdown",
   "id": "e293e267",
   "metadata": {},
   "source": [
    "# ERRO COMUM"
   ]
  },
  {
   "cell_type": "code",
   "execution_count": 6,
   "id": "57199e1d",
   "metadata": {},
   "outputs": [
    {
     "ename": "SyntaxError",
     "evalue": "invalid syntax (Temp/ipykernel_8652/1057246432.py, line 1)",
     "output_type": "error",
     "traceback": [
      "\u001b[1;36m  File \u001b[1;32m\"C:\\Users\\ALUNO0~1.IBC\\AppData\\Local\\Temp/ipykernel_8652/1057246432.py\"\u001b[1;36m, line \u001b[1;32m1\u001b[0m\n\u001b[1;33m    print(Olá mundo!)\u001b[0m\n\u001b[1;37m              ^\u001b[0m\n\u001b[1;31mSyntaxError\u001b[0m\u001b[1;31m:\u001b[0m invalid syntax\n"
     ]
    }
   ],
   "source": [
    "print(Olá mundo!)"
   ]
  },
  {
   "cell_type": "markdown",
   "id": "b4745deb",
   "metadata": {},
   "source": [
    "# Operações matemáticas em Python"
   ]
  },
  {
   "cell_type": "code",
   "execution_count": 7,
   "id": "efcdf48d",
   "metadata": {},
   "outputs": [
    {
     "name": "stdout",
     "output_type": "stream",
     "text": [
      "6\n"
     ]
    }
   ],
   "source": [
    "print(1+5)"
   ]
  },
  {
   "cell_type": "code",
   "execution_count": 8,
   "id": "2d33faf5",
   "metadata": {},
   "outputs": [
    {
     "name": "stdout",
     "output_type": "stream",
     "text": [
      "10\n"
     ]
    }
   ],
   "source": [
    "print(1+3*3)"
   ]
  },
  {
   "cell_type": "markdown",
   "id": "9afb5b4b",
   "metadata": {},
   "source": [
    "# Strings em Python"
   ]
  },
  {
   "cell_type": "code",
   "execution_count": 9,
   "id": "29b8626e",
   "metadata": {},
   "outputs": [
    {
     "name": "stdout",
     "output_type": "stream",
     "text": [
      "Eu estudo Inteligência Artificial no CETAM\n"
     ]
    }
   ],
   "source": [
    "print(\"Eu estudo Inteligência Artificial no CETAM\")"
   ]
  },
  {
   "cell_type": "markdown",
   "id": "2d493dfe",
   "metadata": {},
   "source": [
    "# Concatenar"
   ]
  },
  {
   "cell_type": "code",
   "execution_count": 10,
   "id": "204891ba",
   "metadata": {},
   "outputs": [
    {
     "name": "stdout",
     "output_type": "stream",
     "text": [
      "Estou estudando Python\n"
     ]
    }
   ],
   "source": [
    "print('Estou estudando ' +  'Python' )"
   ]
  },
  {
   "cell_type": "code",
   "execution_count": 11,
   "id": "f60d6f9c",
   "metadata": {},
   "outputs": [
    {
     "name": "stdout",
     "output_type": "stream",
     "text": [
      "False\n"
     ]
    }
   ],
   "source": [
    "print('Estou estudando ' in 'Python' )"
   ]
  },
  {
   "cell_type": "code",
   "execution_count": 13,
   "id": "a7dcbafe",
   "metadata": {},
   "outputs": [
    {
     "name": "stdout",
     "output_type": "stream",
     "text": [
      "True\n"
     ]
    }
   ],
   "source": [
    "print('Py' in 'Python' )"
   ]
  },
  {
   "cell_type": "code",
   "execution_count": 15,
   "id": "3200687c",
   "metadata": {},
   "outputs": [
    {
     "name": "stdout",
     "output_type": "stream",
     "text": [
      "Giovanna Cavalcante\n"
     ]
    }
   ],
   "source": [
    "print ('Giovanna ' +  'Cavalcante')"
   ]
  },
  {
   "cell_type": "code",
   "execution_count": 18,
   "id": "10396213",
   "metadata": {},
   "outputs": [
    {
     "name": "stdout",
     "output_type": "stream",
     "text": [
      "True\n"
     ]
    }
   ],
   "source": [
    "print ('Gi' in 'Giovanna')"
   ]
  },
  {
   "cell_type": "code",
   "execution_count": 19,
   "id": "b88508d3",
   "metadata": {},
   "outputs": [
    {
     "name": "stdout",
     "output_type": "stream",
     "text": [
      "False\n"
     ]
    }
   ],
   "source": [
    "print ('Melissa' in 'Giovanna')"
   ]
  },
  {
   "cell_type": "code",
   "execution_count": 20,
   "id": "7b3aaccd",
   "metadata": {},
   "outputs": [
    {
     "name": "stdout",
     "output_type": "stream",
     "text": [
      "Melissa Nogueira\n"
     ]
    }
   ],
   "source": [
    "print ('Melissa ' + 'Nogueira')"
   ]
  },
  {
   "cell_type": "code",
   "execution_count": 21,
   "id": "5b8461d8",
   "metadata": {},
   "outputs": [
    {
     "name": "stdout",
     "output_type": "stream",
     "text": [
      "True\n"
     ]
    }
   ],
   "source": [
    "print ('Me' in 'Melissa')"
   ]
  },
  {
   "cell_type": "markdown",
   "id": "36657356",
   "metadata": {},
   "source": [
    "# Reiniciando o kernel"
   ]
  },
  {
   "cell_type": "code",
   "execution_count": 1,
   "id": "02f41913",
   "metadata": {},
   "outputs": [
    {
     "name": "stdout",
     "output_type": "stream",
     "text": [
      "texto\n"
     ]
    }
   ],
   "source": [
    "print (\"texto\")"
   ]
  },
  {
   "cell_type": "code",
   "execution_count": null,
   "id": "ef4d1f99",
   "metadata": {},
   "outputs": [],
   "source": []
  }
 ],
 "metadata": {
  "kernelspec": {
   "display_name": "Python 3 (ipykernel)",
   "language": "python",
   "name": "python3"
  },
  "language_info": {
   "codemirror_mode": {
    "name": "ipython",
    "version": 3
   },
   "file_extension": ".py",
   "mimetype": "text/x-python",
   "name": "python",
   "nbconvert_exporter": "python",
   "pygments_lexer": "ipython3",
   "version": "3.9.7"
  }
 },
 "nbformat": 4,
 "nbformat_minor": 5
}
