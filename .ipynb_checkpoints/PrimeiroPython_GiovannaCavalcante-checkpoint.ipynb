{
 "cells": [
  {
   "cell_type": "markdown",
   "id": "9b6dc59c",
   "metadata": {},
   "source": [
    "# Meu primeiro programa em Python para Lógica de Programação"
   ]
  },
  {
   "cell_type": "code",
   "execution_count": 2,
   "id": "48b041df",
   "metadata": {},
   "outputs": [
    {
     "name": "stdout",
     "output_type": "stream",
     "text": [
      "Olá aluno Cetam! Iniciamos com Python \n"
     ]
    }
   ],
   "source": [
    "print(\"Giovanna Cavalcante. Iniciando com Python \")"
   ]
  },
  {
   "cell_type": "code",
   "execution_count": 3,
   "id": "89b3e96f",
   "metadata": {},
   "outputs": [
    {
     "data": {
      "text/plain": [
       "25"
      ]
     },
     "execution_count": 3,
     "metadata": {},
     "output_type": "execute_result"
    }
   ],
   "source": [
    "10+15"
   ]
  },
  {
   "cell_type": "code",
   "execution_count": null,
   "id": "d8ab18cd",
   "metadata": {},
   "outputs": [],
   "source": [
    "print(\"Olá mundo!\")\n"
   ]
  },
  {
   "cell_type": "code",
   "execution_count": 4,
   "id": "5d1228d0",
   "metadata": {},
   "outputs": [
    {
     "name": "stdout",
     "output_type": "stream",
     "text": [
      "2\n"
     ]
    }
   ],
   "source": [
    "print(2)"
   ]
  },
  {
   "cell_type": "code",
   "execution_count": 5,
   "id": "a28d0dae",
   "metadata": {},
   "outputs": [
    {
     "name": "stdout",
     "output_type": "stream",
     "text": [
      "Olá mundo 2!\n"
     ]
    }
   ],
   "source": [
    "print('Olá mundo 2!')"
   ]
  },
  {
   "cell_type": "markdown",
   "id": "6a515697",
   "metadata": {},
   "source": [
    "# ERRO COMUM"
   ]
  },
  {
   "cell_type": "code",
   "execution_count": 6,
   "id": "faf61457",
   "metadata": {},
   "outputs": [
    {
     "ename": "SyntaxError",
     "evalue": "invalid syntax (Temp/ipykernel_8652/1057246432.py, line 1)",
     "output_type": "error",
     "traceback": [
      "\u001b[1;36m  File \u001b[1;32m\"C:\\Users\\ALUNO0~1.IBC\\AppData\\Local\\Temp/ipykernel_8652/1057246432.py\"\u001b[1;36m, line \u001b[1;32m1\u001b[0m\n\u001b[1;33m    print(Olá mundo!)\u001b[0m\n\u001b[1;37m              ^\u001b[0m\n\u001b[1;31mSyntaxError\u001b[0m\u001b[1;31m:\u001b[0m invalid syntax\n"
     ]
    }
   ],
   "source": [
    "print(Olá mundo!)"
   ]
  },
  {
   "cell_type": "markdown",
   "id": "1a30e5f9",
   "metadata": {},
   "source": [
    "# Operações matemáticas em Python"
   ]
  },
  {
   "cell_type": "code",
   "execution_count": 7,
   "id": "08c49e93",
   "metadata": {},
   "outputs": [
    {
     "name": "stdout",
     "output_type": "stream",
     "text": [
      "6\n"
     ]
    }
   ],
   "source": [
    "print(1+5)"
   ]
  },
  {
   "cell_type": "code",
   "execution_count": 8,
   "id": "551ecbbc",
   "metadata": {},
   "outputs": [
    {
     "name": "stdout",
     "output_type": "stream",
     "text": [
      "10\n"
     ]
    }
   ],
   "source": [
    "print(1+3*3)"
   ]
  },
  {
   "cell_type": "markdown",
   "id": "28eff081",
   "metadata": {},
   "source": [
    "# Strings em Python"
   ]
  },
  {
   "cell_type": "code",
   "execution_count": 9,
   "id": "f5e9c050",
   "metadata": {},
   "outputs": [
    {
     "name": "stdout",
     "output_type": "stream",
     "text": [
      "Eu estudo Inteligência Artificial no CETAM\n"
     ]
    }
   ],
   "source": [
    "print(\"Eu estudo Inteligência Artificial no CETAM\")"
   ]
  },
  {
   "cell_type": "markdown",
   "id": "8606df4d",
   "metadata": {},
   "source": [
    "# Concatenar"
   ]
  },
  {
   "cell_type": "code",
   "execution_count": 10,
   "id": "826bb0b6",
   "metadata": {},
   "outputs": [
    {
     "name": "stdout",
     "output_type": "stream",
     "text": [
      "Estou estudando Python\n"
     ]
    }
   ],
   "source": [
    "print('Estou estudando ' +  'Python' )"
   ]
  },
  {
   "cell_type": "code",
   "execution_count": 11,
   "id": "bf9de4c3",
   "metadata": {},
   "outputs": [
    {
     "name": "stdout",
     "output_type": "stream",
     "text": [
      "False\n"
     ]
    }
   ],
   "source": [
    "print('Estou estudando ' in 'Python' )"
   ]
  },
  {
   "cell_type": "code",
   "execution_count": 13,
   "id": "888a3feb",
   "metadata": {},
   "outputs": [
    {
     "name": "stdout",
     "output_type": "stream",
     "text": [
      "True\n"
     ]
    }
   ],
   "source": [
    "print('Py' in 'Python' )"
   ]
  },
  {
   "cell_type": "code",
   "execution_count": 15,
   "id": "4f312f93",
   "metadata": {},
   "outputs": [
    {
     "name": "stdout",
     "output_type": "stream",
     "text": [
      "Giovanna Cavalcante\n"
     ]
    }
   ],
   "source": [
    "print ('Giovanna ' +  'Cavalcante')"
   ]
  },
  {
   "cell_type": "code",
   "execution_count": 18,
   "id": "daea3340",
   "metadata": {},
   "outputs": [
    {
     "name": "stdout",
     "output_type": "stream",
     "text": [
      "True\n"
     ]
    }
   ],
   "source": [
    "print ('Gi' in 'Giovanna')"
   ]
  },
  {
   "cell_type": "code",
   "execution_count": 19,
   "id": "4ff6e564",
   "metadata": {},
   "outputs": [
    {
     "name": "stdout",
     "output_type": "stream",
     "text": [
      "False\n"
     ]
    }
   ],
   "source": [
    "print ('Melissa' in 'Giovanna')"
   ]
  },
  {
   "cell_type": "code",
   "execution_count": 20,
   "id": "c704ed4e",
   "metadata": {},
   "outputs": [
    {
     "name": "stdout",
     "output_type": "stream",
     "text": [
      "Melissa Nogueira\n"
     ]
    }
   ],
   "source": [
    "print ('Melissa ' + 'Nogueira')"
   ]
  },
  {
   "cell_type": "code",
   "execution_count": 21,
   "id": "e6ee35f1",
   "metadata": {},
   "outputs": [
    {
     "name": "stdout",
     "output_type": "stream",
     "text": [
      "True\n"
     ]
    }
   ],
   "source": [
    "print ('Me' in 'Melissa')"
   ]
  },
  {
   "cell_type": "markdown",
   "id": "1fa569cc",
   "metadata": {},
   "source": [
    "# Reiniciando o kernel"
   ]
  },
  {
   "cell_type": "code",
   "execution_count": 1,
   "id": "41fdb21a",
   "metadata": {},
   "outputs": [
    {
     "name": "stdout",
     "output_type": "stream",
     "text": [
      "texto\n"
     ]
    }
   ],
   "source": [
    "print (\"texto\")"
   ]
  },
  {
   "cell_type": "code",
   "execution_count": null,
   "id": "512d8002",
   "metadata": {},
   "outputs": [],
   "source": []
  }
 ],
 "metadata": {
  "kernelspec": {
   "display_name": "Python 3 (ipykernel)",
   "language": "python",
   "name": "python3"
  },
  "language_info": {
   "codemirror_mode": {
    "name": "ipython",
    "version": 3
   },
   "file_extension": ".py",
   "mimetype": "text/x-python",
   "name": "python",
   "nbconvert_exporter": "python",
   "pygments_lexer": "ipython3",
   "version": "3.9.7"
  }
 },
 "nbformat": 4,
 "nbformat_minor": 5
}
