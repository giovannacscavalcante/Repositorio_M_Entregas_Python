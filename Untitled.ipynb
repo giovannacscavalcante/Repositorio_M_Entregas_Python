{
 "cells": [
  {
   "cell_type": "code",
   "execution_count": 1,
   "id": "70a4b960",
   "metadata": {},
   "outputs": [
    {
     "name": "stdout",
     "output_type": "stream",
     "text": [
      "Olá aluno Cetam! Iniciamos com Python \n"
     ]
    }
   ],
   "source": [
    "print(\"Olá aluno Cetam! Iniciamos com Python \")"
   ]
  },
  {
   "cell_type": "code",
   "execution_count": 2,
   "id": "6c468dfc",
   "metadata": {},
   "outputs": [
    {
     "data": {
      "text/plain": [
       "6"
      ]
     },
     "execution_count": 2,
     "metadata": {},
     "output_type": "execute_result"
    }
   ],
   "source": [
    "2+4"
   ]
  },
  {
   "cell_type": "code",
   "execution_count": 3,
   "id": "6869e48e",
   "metadata": {},
   "outputs": [
    {
     "name": "stdout",
     "output_type": "stream",
     "text": [
      "Olá mundo!\n"
     ]
    }
   ],
   "source": [
    "print(\"Olá mundo!\")"
   ]
  },
  {
   "cell_type": "code",
   "execution_count": 5,
   "id": "eeb27cbf",
   "metadata": {},
   "outputs": [
    {
     "name": "stdout",
     "output_type": "stream",
     "text": [
      "2\n"
     ]
    }
   ],
   "source": [
    "print(2)"
   ]
  },
  {
   "cell_type": "code",
   "execution_count": 6,
   "id": "63a4d94e",
   "metadata": {},
   "outputs": [
    {
     "name": "stdout",
     "output_type": "stream",
     "text": [
      "Olá,mundo 2!\n"
     ]
    }
   ],
   "source": [
    "print(\"Olá,mundo 2!\")"
   ]
  },
  {
   "cell_type": "code",
   "execution_count": null,
   "id": "4ce23787",
   "metadata": {},
   "outputs": [],
   "source": []
  }
 ],
 "metadata": {
  "kernelspec": {
   "display_name": "Python 3 (ipykernel)",
   "language": "python",
   "name": "python3"
  },
  "language_info": {
   "codemirror_mode": {
    "name": "ipython",
    "version": 3
   },
   "file_extension": ".py",
   "mimetype": "text/x-python",
   "name": "python",
   "nbconvert_exporter": "python",
   "pygments_lexer": "ipython3",
   "version": "3.9.7"
  }
 },
 "nbformat": 4,
 "nbformat_minor": 5
}
