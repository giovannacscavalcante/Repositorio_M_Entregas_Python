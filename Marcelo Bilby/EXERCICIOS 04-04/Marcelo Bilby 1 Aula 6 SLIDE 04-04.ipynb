{
 "cells": [
  {
   "cell_type": "markdown",
   "id": "e42dcce5",
   "metadata": {},
   "source": [
    "**Exercício 5.1**"
   ]
  },
  {
   "cell_type": "code",
   "execution_count": null,
   "id": "751ff2a6",
   "metadata": {},
   "outputs": [],
   "source": [
    "a = 10 + 20 * 30\n",
    "print(a)"
   ]
  },
  {
   "cell_type": "code",
   "execution_count": 2,
   "id": "26f6558d",
   "metadata": {},
   "outputs": [
    {
     "name": "stdout",
     "output_type": "stream",
     "text": [
      "1.4\n"
     ]
    }
   ],
   "source": [
    "b = 42 / 30\n",
    "print(b)"
   ]
  },
  {
   "cell_type": "code",
   "execution_count": 14,
   "id": "ee8b9e77",
   "metadata": {},
   "outputs": [
    {
     "name": "stdout",
     "output_type": "stream",
     "text": [
      "480\n"
     ]
    }
   ],
   "source": [
    "c = ((94 + 2) * (6 - 1))\n",
    "print(c)"
   ]
  },
  {
   "cell_type": "code",
   "execution_count": 5,
   "id": "21ce1e7f",
   "metadata": {},
   "outputs": [
    {
     "name": "stdout",
     "output_type": "stream",
     "text": [
      "107\n"
     ]
    }
   ],
   "source": [
    "d = ((10 + 8) * (10 - 4)) - 1\n",
    "print(d)"
   ]
  },
  {
   "cell_type": "code",
   "execution_count": 8,
   "id": "1d0b17e5",
   "metadata": {},
   "outputs": [
    {
     "name": "stdout",
     "output_type": "stream",
     "text": [
      "2505426032558.259\n"
     ]
    }
   ],
   "source": [
    "e = ((1500+((100 - 9)/10)) * 9) ** 3\n",
    "print(e)"
   ]
  },
  {
   "cell_type": "markdown",
   "id": "19d2ec9a",
   "metadata": {},
   "source": [
    "**Exercícios 5.2**\n"
   ]
  },
  {
   "cell_type": "code",
   "execution_count": 10,
   "id": "716e682c",
   "metadata": {},
   "outputs": [
    {
     "name": "stdout",
     "output_type": "stream",
     "text": [
      "81.0\n"
     ]
    }
   ],
   "source": [
    "a = 10 % 3 * 10 ** 2 + 1 -10 * 4 / 2\n",
    "print(a)"
   ]
  },
  {
   "cell_type": "markdown",
   "id": "065e71db",
   "metadata": {},
   "source": [
    "**Exercício 5.3**"
   ]
  },
  {
   "cell_type": "code",
   "execution_count": 11,
   "id": "006fbeb4",
   "metadata": {},
   "outputs": [
    {
     "name": "stdout",
     "output_type": "stream",
     "text": [
      "Marcelo Bilby\n"
     ]
    }
   ],
   "source": [
    "print(\"Marcelo Bilby\")"
   ]
  },
  {
   "cell_type": "markdown",
   "id": "69dd2afe",
   "metadata": {},
   "source": [
    "**Exercício 5.4**"
   ]
  },
  {
   "cell_type": "code",
   "execution_count": 12,
   "id": "2db248b3",
   "metadata": {},
   "outputs": [
    {
     "name": "stdout",
     "output_type": "stream",
     "text": [
      "90\n"
     ]
    }
   ],
   "source": [
    "a = 3\n",
    "b = 5\n",
    "result = (2 * a) * (3 * b)\n",
    "print(result)"
   ]
  },
  {
   "cell_type": "markdown",
   "id": "79488874",
   "metadata": {},
   "source": [
    "**Exercício 5.5\""
   ]
  },
  {
   "cell_type": "code",
   "execution_count": 13,
   "id": "c52b4810",
   "metadata": {},
   "outputs": [
    {
     "name": "stdout",
     "output_type": "stream",
     "text": [
      "10\n"
     ]
    }
   ],
   "source": [
    "a = 2\n",
    "b = 3\n",
    "c = 5\n",
    "\n",
    "result = a + b + c\n",
    "print(result)"
   ]
  },
  {
   "cell_type": "markdown",
   "id": "4d0a8e81",
   "metadata": {},
   "source": [
    "**Exercício 5.6**"
   ]
  },
  {
   "cell_type": "code",
   "execution_count": 15,
   "id": "cc32e7ae",
   "metadata": {},
   "outputs": [
    {
     "name": "stdout",
     "output_type": "stream",
     "text": [
      "Seu salário reajustado é:  862.5\n"
     ]
    }
   ],
   "source": [
    "salario = 750\n",
    "taxa = 15\n",
    "print(\"Seu salário reajustado é: \", salario + (salario * taxa / 100))"
   ]
  },
  {
   "cell_type": "code",
   "execution_count": null,
   "id": "d280dbe8",
   "metadata": {},
   "outputs": [],
   "source": [
    "**Exercício 5.7**"
   ]
  },
  {
   "cell_type": "code",
   "execution_count": 19,
   "id": "7694a000",
   "metadata": {},
   "outputs": [
    {
     "name": "stdout",
     "output_type": "stream",
     "text": [
      "Informe seu valor em centimetros: 50\n",
      "Seu valor em centimetros corresponde a:  0.5 Metros\n"
     ]
    }
   ],
   "source": [
    "cm = float(input(\"Informe seu valor em centimetros: \"))\n",
    "result = cm / 100\n",
    "print(\"Seu valor em centimetros corresponde a: \", result, \"Metros\")"
   ]
  },
  {
   "cell_type": "markdown",
   "id": "666510bd",
   "metadata": {},
   "source": [
    "**Exercício 5.8**"
   ]
  },
  {
   "cell_type": "code",
   "execution_count": 23,
   "id": "d74d1c37",
   "metadata": {},
   "outputs": [
    {
     "name": "stdout",
     "output_type": "stream",
     "text": [
      "Informe um valor: 9\n",
      "1 x 9 =  9\n",
      "2 x 9 =  18\n",
      "3 x 9 =  27\n",
      "4 x 9 =  36\n",
      "5 x 9 =  45\n",
      "6 x 9 =  54\n",
      "7 x 9 =  63\n",
      "8 x 9 =  72\n",
      "9 x 9 =  81\n",
      "10 x 9 =  90\n"
     ]
    }
   ],
   "source": [
    "valor = int(input(\"Informe um valor: \"))\n",
    "\n",
    "print(f\"1 x {valor} = \", 1 * valor )\n",
    "print(f\"2 x {valor} = \", 2 * valor )\n",
    "print(f\"3 x {valor} = \", 3 * valor )\n",
    "print(f\"4 x {valor} = \", 4 * valor )\n",
    "print(f\"5 x {valor} = \", 5 * valor )\n",
    "print(f\"6 x {valor} = \", 6 * valor )\n",
    "print(f\"7 x {valor} = \", 7 * valor )\n",
    "print(f\"8 x {valor} = \", 8 * valor )\n",
    "print(f\"9 x {valor} = \", 9 * valor )\n",
    "print(f\"10 x {valor} = \", 10 * valor )"
   ]
  },
  {
   "cell_type": "markdown",
   "id": "45a4ad33",
   "metadata": {},
   "source": [
    "**Exercício 5.9**"
   ]
  },
  {
   "cell_type": "code",
   "execution_count": null,
   "id": "9ed57d77",
   "metadata": {},
   "outputs": [],
   "source": [
    "a = float(input(\"Informe a primeira nota: \"))\n",
    "b = float(input(\"Informe a segunda nota: \"))\n",
    "media = (a + b) / 2\n",
    "print(f\"Sua média é: {media}\")"
   ]
  },
  {
   "cell_type": "markdown",
   "id": "eb8db4b5",
   "metadata": {},
   "source": [
    "**Exercício 5.10**"
   ]
  },
  {
   "cell_type": "code",
   "execution_count": 30,
   "id": "f0644691",
   "metadata": {},
   "outputs": [
    {
     "name": "stdout",
     "output_type": "stream",
     "text": [
      "Informe seu salario atual: 1000\n",
      "Informe a taxa a ser utilizada 5%, 10% ou 15% : 15\n",
      "O seu salário reajustado é:  1150.0\n"
     ]
    }
   ],
   "source": [
    "salario = float(input(\"Informe seu salario atual: \"))\n",
    "taxa = float(input(\"Informe a taxa a ser utilizada 5%, 10% ou 15% : \"))\n",
    "salario = salario + (salario * (taxa / 100))\n",
    "print(\"O seu salário reajustado é: \", salario)"
   ]
  },
  {
   "cell_type": "markdown",
   "id": "cfaa74c5",
   "metadata": {},
   "source": [
    "**Exercício 5.13**"
   ]
  }
 ],
 "metadata": {
  "kernelspec": {
   "display_name": "Python 3 (ipykernel)",
   "language": "python",
   "name": "python3"
  },
  "language_info": {
   "codemirror_mode": {
    "name": "ipython",
    "version": 3
   },
   "file_extension": ".py",
   "mimetype": "text/x-python",
   "name": "python",
   "nbconvert_exporter": "python",
   "pygments_lexer": "ipython3",
   "version": "3.9.7"
  }
 },
 "nbformat": 4,
 "nbformat_minor": 5
}
