{
 "cells": [
  {
   "cell_type": "markdown",
   "id": "aea3f310",
   "metadata": {},
   "source": [
    "**Exercício 5.1**"
   ]
  },
  {
   "cell_type": "code",
   "execution_count": null,
   "id": "472c18dc",
   "metadata": {},
   "outputs": [],
   "source": [
    "a = 10 + 20 * 30\n",
    "print(a)"
   ]
  },
  {
   "cell_type": "code",
   "execution_count": 2,
   "id": "59495c5f",
   "metadata": {},
   "outputs": [
    {
     "name": "stdout",
     "output_type": "stream",
     "text": [
      "1.4\n"
     ]
    }
   ],
   "source": [
    "b = 42 / 30\n",
    "print(b)"
   ]
  },
  {
   "cell_type": "code",
   "execution_count": 14,
   "id": "ea35d301",
   "metadata": {},
   "outputs": [
    {
     "name": "stdout",
     "output_type": "stream",
     "text": [
      "480\n"
     ]
    }
   ],
   "source": [
    "c = ((94 + 2) * (6 - 1))\n",
    "print(c)"
   ]
  },
  {
   "cell_type": "code",
   "execution_count": 5,
   "id": "ec0c91cb",
   "metadata": {},
   "outputs": [
    {
     "name": "stdout",
     "output_type": "stream",
     "text": [
      "107\n"
     ]
    }
   ],
   "source": [
    "d = ((10 + 8) * (10 - 4)) - 1\n",
    "print(d)"
   ]
  },
  {
   "cell_type": "code",
   "execution_count": 8,
   "id": "fc9fefab",
   "metadata": {},
   "outputs": [
    {
     "name": "stdout",
     "output_type": "stream",
     "text": [
      "2505426032558.259\n"
     ]
    }
   ],
   "source": [
    "e = ((1500+((100 - 9)/10)) * 9) ** 3\n",
    "print(e)"
   ]
  },
  {
   "cell_type": "markdown",
   "id": "e54d32a6",
   "metadata": {},
   "source": [
    "**Exercícios 5.2**\n"
   ]
  },
  {
   "cell_type": "code",
   "execution_count": 10,
   "id": "7790108f",
   "metadata": {},
   "outputs": [
    {
     "name": "stdout",
     "output_type": "stream",
     "text": [
      "81.0\n"
     ]
    }
   ],
   "source": [
    "a = 10 % 3 * 10 ** 2 + 1 -10 * 4 / 2\n",
    "print(a)"
   ]
  },
  {
   "cell_type": "markdown",
   "id": "caee4fc0",
   "metadata": {},
   "source": [
    "**Exercício 5.3**"
   ]
  },
  {
   "cell_type": "code",
   "execution_count": 11,
   "id": "36606834",
   "metadata": {},
   "outputs": [
    {
     "name": "stdout",
     "output_type": "stream",
     "text": [
      "Marcelo Bilby\n"
     ]
    }
   ],
   "source": [
    "print(\"Marcelo Bilby\")"
   ]
  },
  {
   "cell_type": "markdown",
   "id": "e38dbb6b",
   "metadata": {},
   "source": [
    "**Exercício 5.4**"
   ]
  },
  {
   "cell_type": "code",
   "execution_count": 12,
   "id": "8214f4cc",
   "metadata": {},
   "outputs": [
    {
     "name": "stdout",
     "output_type": "stream",
     "text": [
      "90\n"
     ]
    }
   ],
   "source": [
    "a = 3\n",
    "b = 5\n",
    "result = (2 * a) * (3 * b)\n",
    "print(result)"
   ]
  },
  {
   "cell_type": "markdown",
   "id": "36512680",
   "metadata": {},
   "source": [
    "**Exercício 5.5\""
   ]
  },
  {
   "cell_type": "code",
   "execution_count": 13,
   "id": "a0380676",
   "metadata": {},
   "outputs": [
    {
     "name": "stdout",
     "output_type": "stream",
     "text": [
      "10\n"
     ]
    }
   ],
   "source": [
    "a = 2\n",
    "b = 3\n",
    "c = 5\n",
    "\n",
    "result = a + b + c\n",
    "print(result)"
   ]
  },
  {
   "cell_type": "markdown",
   "id": "4533e725",
   "metadata": {},
   "source": [
    "**Exercício 5.6**"
   ]
  },
  {
   "cell_type": "code",
   "execution_count": 15,
   "id": "10f6458b",
   "metadata": {},
   "outputs": [
    {
     "name": "stdout",
     "output_type": "stream",
     "text": [
      "Seu salário reajustado é:  862.5\n"
     ]
    }
   ],
   "source": [
    "salario = 750\n",
    "taxa = 15\n",
    "print(\"Seu salário reajustado é: \", salario + (salario * taxa / 100))"
   ]
  },
  {
   "cell_type": "code",
   "execution_count": null,
   "id": "448ca4fb",
   "metadata": {},
   "outputs": [],
   "source": [
    "**Exercício 5.7**"
   ]
  },
  {
   "cell_type": "code",
   "execution_count": 19,
   "id": "20cc481d",
   "metadata": {},
   "outputs": [
    {
     "name": "stdout",
     "output_type": "stream",
     "text": [
      "Informe seu valor em centimetros: 50\n",
      "Seu valor em centimetros corresponde a:  0.5 Metros\n"
     ]
    }
   ],
   "source": [
    "cm = float(input(\"Informe seu valor em centimetros: \"))\n",
    "result = cm / 100\n",
    "print(\"Seu valor em centimetros corresponde a: \", result, \"Metros\")"
   ]
  },
  {
   "cell_type": "markdown",
   "id": "06c5d33a",
   "metadata": {},
   "source": [
    "**Exercício 5.8**"
   ]
  },
  {
   "cell_type": "code",
   "execution_count": 23,
   "id": "6e9d322c",
   "metadata": {},
   "outputs": [
    {
     "name": "stdout",
     "output_type": "stream",
     "text": [
      "Informe um valor: 9\n",
      "1 x 9 =  9\n",
      "2 x 9 =  18\n",
      "3 x 9 =  27\n",
      "4 x 9 =  36\n",
      "5 x 9 =  45\n",
      "6 x 9 =  54\n",
      "7 x 9 =  63\n",
      "8 x 9 =  72\n",
      "9 x 9 =  81\n",
      "10 x 9 =  90\n"
     ]
    }
   ],
   "source": [
    "valor = int(input(\"Informe um valor: \"))\n",
    "\n",
    "print(f\"1 x {valor} = \", 1 * valor )\n",
    "print(f\"2 x {valor} = \", 2 * valor )\n",
    "print(f\"3 x {valor} = \", 3 * valor )\n",
    "print(f\"4 x {valor} = \", 4 * valor )\n",
    "print(f\"5 x {valor} = \", 5 * valor )\n",
    "print(f\"6 x {valor} = \", 6 * valor )\n",
    "print(f\"7 x {valor} = \", 7 * valor )\n",
    "print(f\"8 x {valor} = \", 8 * valor )\n",
    "print(f\"9 x {valor} = \", 9 * valor )\n",
    "print(f\"10 x {valor} = \", 10 * valor )"
   ]
  },
  {
   "cell_type": "markdown",
   "id": "25fbb86d",
   "metadata": {},
   "source": [
    "**Exercício 5.9**"
   ]
  },
  {
   "cell_type": "code",
   "execution_count": 25,
   "id": "1a86f66a",
   "metadata": {},
   "outputs": [
    {
     "name": "stdout",
     "output_type": "stream",
     "text": [
      "Informe a primeira nota: 5\n",
      "Informe a segunda nota: 8\n",
      "Sua média é: 6.5\n"
     ]
    }
   ],
   "source": [
    "a = float(input(\"Informe a primeira nota: \"))\n",
    "b = float(input(\"Informe a segunda nota: \"))\n",
    "media = (a + b) / 2\n",
    "print(f\"Sua média é: {media}\")"
   ]
  },
  {
   "cell_type": "code",
   "execution_count": null,
   "id": "b6b710e0",
   "metadata": {},
   "outputs": [],
   "source": []
  }
 ],
 "metadata": {
  "kernelspec": {
   "display_name": "Python 3 (ipykernel)",
   "language": "python",
   "name": "python3"
  },
  "language_info": {
   "codemirror_mode": {
    "name": "ipython",
    "version": 3
   },
   "file_extension": ".py",
   "mimetype": "text/x-python",
   "name": "python",
   "nbconvert_exporter": "python",
   "pygments_lexer": "ipython3",
   "version": "3.9.7"
  }
 },
 "nbformat": 4,
 "nbformat_minor": 5
}
