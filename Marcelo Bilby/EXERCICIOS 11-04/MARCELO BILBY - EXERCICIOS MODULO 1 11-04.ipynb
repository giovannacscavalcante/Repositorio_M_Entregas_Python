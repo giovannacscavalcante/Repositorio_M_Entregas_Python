{
 "cells": [
  {
   "cell_type": "markdown",
   "id": "554104f1",
   "metadata": {},
   "source": [
    "**EXERCICIOS MODULO 1 - OPERAÇÕES, VARIAVEIS E INPUT\n",
    "\n",
    "Crie um programa que imprima os indicadores da loja HashTag&Drink no ultimo ano. OBS: Faça tudo usando variaveis\n",
    "\n",
    "Valores do ultimo ano:\n",
    "\n",
    "Quantidade de vendas de Coca = 150\n",
    "Quantidade de vendas Pepsi = 130\n",
    "Preço Unitário da Coca = 1.50\n",
    "Preço Unitário Pepsi = 1.50\n",
    "Custo Loja = 2.500,00"
   ]
  },
  {
   "cell_type": "code",
   "execution_count": 10,
   "id": "f562add1",
   "metadata": {},
   "outputs": [
    {
     "name": "stdout",
     "output_type": "stream",
     "text": [
      "Faturamento:  420.0\n",
      "Lucro:  \u001b[31m-2080.0\u001b[0;0m]\n"
     ]
    }
   ],
   "source": [
    "qtde_vendas_coca = 150\n",
    "qtde_vendas_pepsi = 130\n",
    "preco_unit_coca = 1.50\n",
    "preco_unit_pepsi = 1.50\n",
    "custo_loja = 2500.00\n",
    "faturamento = 0\n",
    "lucro = 0\n",
    "\n",
    "\n",
    "faturamento = (qtde_vendas_coca * preco_unit_coca) + (qtde_vendas_pepsi * preco_unit_pepsi)\n",
    "lucro = faturamento - custo_loja\n",
    "\n",
    "lucro = str(lucro)\n",
    "\n",
    "print(\"Faturamento: \", faturamento)\n",
    "print(\"Lucro: \", \"\\033[31m\" + lucro + \"\\033[0;0m]\")"
   ]
  },
  {
   "cell_type": "code",
   "execution_count": null,
   "id": "60969a25",
   "metadata": {},
   "outputs": [],
   "source": []
  }
 ],
 "metadata": {
  "kernelspec": {
   "display_name": "Python 3 (ipykernel)",
   "language": "python",
   "name": "python3"
  },
  "language_info": {
   "codemirror_mode": {
    "name": "ipython",
    "version": 3
   },
   "file_extension": ".py",
   "mimetype": "text/x-python",
   "name": "python",
   "nbconvert_exporter": "python",
   "pygments_lexer": "ipython3",
   "version": "3.9.7"
  }
 },
 "nbformat": 4,
 "nbformat_minor": 5
}
