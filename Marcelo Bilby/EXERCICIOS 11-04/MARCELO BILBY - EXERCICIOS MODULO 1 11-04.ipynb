{
 "cells": [
  {
   "cell_type": "markdown",
   "id": "7f174e9c",
   "metadata": {},
   "source": [
    "**EXERCICIOS MODULO 1 - OPERAÇÕES, VARIAVEIS E INPUT\n",
    "\n",
    "**EXERCICIO 1\n",
    "\n",
    "Crie um programa que imprima os indicadores da loja HashTag&Drink no ultimo ano. OBS: Faça tudo usando variaveis\n",
    "\n",
    "Valores do ultimo ano:\n",
    "\n",
    "Quantidade de vendas de Coca = 150\n",
    "Quantidade de vendas Pepsi = 130\n",
    "Preço Unitário da Coca = 1.50\n",
    "Preço Unitário Pepsi = 1.50\n",
    "Custo Loja = 2.500,00"
   ]
  },
  {
   "cell_type": "code",
   "execution_count": null,
   "id": "48e13a74",
   "metadata": {},
   "outputs": [],
   "source": [
    "qtde_vendas_coca = 150\n",
    "qtde_vendas_pepsi = 130\n",
    "preco_unit_coca = 1.50\n",
    "preco_unit_pepsi = 1.50\n",
    "custo_loja = 2500.00 # O custo da loja é uma constante, tendo em vista que a mesma não sofre alteração durante o algoritmo.\n",
    "faturamento = 0 #O faturamento é uma variavel, tendo em que, a mesma sofre alterações durante o algoritmo  \n",
    "lucro = 0  # O operador =(igual) é um operador de designação, ou seja atribui um valor a variavel.\n",
    "\n",
    "\n",
    "faturamento = (qtde_vendas_coca * preco_unit_coca) + (qtde_vendas_pepsi * preco_unit_pepsi)\n",
    "lucro = faturamento - custo_loja\n",
    "\n",
    "lucro = str(lucro)\n",
    "\n",
    "print(\"Faturamento: \", faturamento)\n",
    "print(\"Lucro: \", \"\\033[31m\" + lucro + \"\\033[0;0m]\")"
   ]
  },
  {
   "cell_type": "markdown",
   "id": "5ce985c9",
   "metadata": {},
   "source": [
    "**EXERCICIOS MODULO 1 OPERAÇÕES, VARIAVEIS E INPUT\n",
    "\n",
    "**EXERCICIO 2"
   ]
  },
  {
   "cell_type": "code",
   "execution_count": null,
   "id": "93794da9",
   "metadata": {},
   "outputs": [],
   "source": []
  }
 ],
 "metadata": {
  "kernelspec": {
   "display_name": "Python 3 (ipykernel)",
   "language": "python",
   "name": "python3"
  },
  "language_info": {
   "codemirror_mode": {
    "name": "ipython",
    "version": 3
   },
   "file_extension": ".py",
   "mimetype": "text/x-python",
   "name": "python",
   "nbconvert_exporter": "python",
   "pygments_lexer": "ipython3",
   "version": "3.9.7"
  }
 },
 "nbformat": 4,
 "nbformat_minor": 5
}
