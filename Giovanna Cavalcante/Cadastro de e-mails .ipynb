{
 "cells": [
  {
   "cell_type": "markdown",
   "id": "14ff666e",
   "metadata": {},
   "source": [
    "# Cadastro de e-mails\n",
    "Uma empresa sempre se comunica com seus clientes por e-mail. Para isso, a gente tem em cada página um cadastro de nome e email.\n",
    "Nesse cadastro, nosso sistema verifica se o e-mail que a pessoa inseriu é um e-mail válido, verificando se ele tem '@' e se\n",
    "depois do '@' tem algum ponto, afinal:\n",
    "\n",
    "iramgmail.com NÃO é um e-mail válido\n",
    "iram@gmail NÃO é um e-mail válido\n",
    "iram@gmail.com é um e-mail válido\n",
    "\n",
    "Crie um programa que permita o cadastro de nome e e-mail de uma pessoa (por meio de inputs) e que verifique:\n",
    "\n",
    "Se nome e e-mail foram preenchidos, caso contrário ele deve avisar para preencher todos os dados corretamente\n",
    "Se o e-mail contém '@' e se depois do '@' existe algum '.', caso contrário ele deve exibir uma mensagem de e-mail inválido\n",
    "Obs: Pode te ajudar lembrar do método .find da aula de Métodos de String. Você pode testar o que ele dá como resposta caso #ele não encontre um item dentro da string\n",
    "\n"
   ]
  },
  {
   "cell_type": "code",
   "execution_count": 7,
   "id": "72d1bb9b",
   "metadata": {},
   "outputs": [
    {
     "name": "stdout",
     "output_type": "stream",
     "text": [
      "Digite seu nome: fdfdfd\n",
      "Digite o seu e-mail: giovanna@gmail.com\n",
      "Cadastro concluído\n"
     ]
    }
   ],
   "source": [
    "nome = input('Digite seu nome: ') \n",
    "email = input('Digite o seu e-mail: ') \n",
    "if nome and email: pos_a = email.find('@') \n",
    "servidor = email[pos_a:] \n",
    "if pos_a != -1 and '.' in servidor: \n",
    "    print('Cadastro concluído') \n",
    "else: \n",
    "    print('Email inválido, tente novamente')\n"
   ]
  },
  {
   "cell_type": "code",
   "execution_count": null,
   "id": "22865a69",
   "metadata": {},
   "outputs": [],
   "source": []
  }
 ],
 "metadata": {
  "kernelspec": {
   "display_name": "Python 3 (ipykernel)",
   "language": "python",
   "name": "python3"
  },
  "language_info": {
   "codemirror_mode": {
    "name": "ipython",
    "version": 3
   },
   "file_extension": ".py",
   "mimetype": "text/x-python",
   "name": "python",
   "nbconvert_exporter": "python",
   "pygments_lexer": "ipython3",
   "version": "3.9.7"
  }
 },
 "nbformat": 4,
 "nbformat_minor": 5
}
