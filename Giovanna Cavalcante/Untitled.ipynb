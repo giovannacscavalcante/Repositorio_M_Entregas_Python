{
 "cells": [
  {
   "cell_type": "code",
   "execution_count": 5,
   "id": "579af012",
   "metadata": {},
   "outputs": [
    {
     "ename": "SyntaxError",
     "evalue": "invalid syntax (Temp/ipykernel_17280/395604765.py, line 11)",
     "output_type": "error",
     "traceback": [
      "\u001b[1;36m  File \u001b[1;32m\"C:\\Users\\ALUNO0~1.IBC\\AppData\\Local\\Temp/ipykernel_17280/395604765.py\"\u001b[1;36m, line \u001b[1;32m11\u001b[0m\n\u001b[1;33m    else: print(\"Digite seu CPF corretamente e digite apenas números\")\u001b[0m\n\u001b[1;37m    ^\u001b[0m\n\u001b[1;31mSyntaxError\u001b[0m\u001b[1;31m:\u001b[0m invalid syntax\n"
     ]
    }
   ],
   "source": [
    "#Exercícios1. \n",
    "#Cadastro de CPF\n",
    "#Crie um programa para cadastro de CPF de clientes que recebe o CPF em um input box apenas com números.\n",
    "#Ex: 'Insira seu CPF (digite apenas números)'\n",
    "#Caso o usuário digite algo diferente de números ou digite menos de 11 caracteres (tamanho do CPF brasileiro), o programa deve exibir uma mensagem de \"Digite seu CPF corretamente e digite apenas números\"\n",
    "\n",
    "\n",
    "cpf = input(\"Insira seu CPF (digite apenas números)\")\n",
    "if len(cpf) == 11 and cpf.isnumeric():\n",
    "    print(cpf)\n",
    "    else: print(\"Digite seu CPF corretamente e digite apenas números\")\n",
    "\n",
    "\n"
   ]
  },
  {
   "cell_type": "code",
   "execution_count": null,
   "id": "acdbcaf1",
   "metadata": {},
   "outputs": [],
   "source": []
  }
 ],
 "metadata": {
  "kernelspec": {
   "display_name": "Python 3 (ipykernel)",
   "language": "python",
   "name": "python3"
  },
  "language_info": {
   "codemirror_mode": {
    "name": "ipython",
    "version": 3
   },
   "file_extension": ".py",
   "mimetype": "text/x-python",
   "name": "python",
   "nbconvert_exporter": "python",
   "pygments_lexer": "ipython3",
   "version": "3.9.7"
  }
 },
 "nbformat": 4,
 "nbformat_minor": 5
}
