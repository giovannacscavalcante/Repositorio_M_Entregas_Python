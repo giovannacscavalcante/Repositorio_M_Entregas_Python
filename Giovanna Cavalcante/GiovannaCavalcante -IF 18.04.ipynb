{
 "cells": [
  {
   "cell_type": "markdown",
   "metadata": {
    "colab_type": "text",
    "id": "view-in-github"
   },
   "source": [
    "<a href=\"https://colab.research.google.com/github/hiramaralIA/CETAM_IA_AULAS_PYTHON/blob/main/05_04_01_Exerc%C3%ADcios_if.ipynb\" target=\"_parent\"><img src=\"https://colab.research.google.com/assets/colab-badge.svg\" alt=\"Open In Colab\"/></a>"
   ]
  },
  {
   "cell_type": "markdown",
   "metadata": {
    "id": "OFluHIS4uKLv"
   },
   "source": [
    "# Exercícios com if"
   ]
  },
  {
   "cell_type": "markdown",
   "metadata": {
    "id": "pJmUCSyQuKLx"
   },
   "source": [
    "## 1. Cálculo de Bônus\n",
    "\n",
    "- Crie um programa que calcule e dê um print no bônus que os funcionários devem receber segundo a regra:\n",
    "\n",
    "A meta é 1000 vendas.<br> \n",
    "Se o valor de vendas for maior ou igual a meta, o valor do bônus do funcionário é 10% do valor de vendas.<br>\n",
    "Caso contrário o valor de bônus do funcionário é 0.<br>\n",
    "Print o bônus dos 3 funcionários"
   ]
  },
  {
   "cell_type": "code",
   "execution_count": 32,
   "metadata": {
    "id": "oMTki8LNuKLx"
   },
   "outputs": [
    {
     "name": "stdout",
     "output_type": "stream",
     "text": [
      "O funcionário 1 ganhou 100.0\n",
      "O funcionário 2 não recebe bônus\n",
      "O funcionário 3 ganhou 270.0\n"
     ]
    }
   ],
   "source": [
    "meta = 1000\n",
    "vendas_funcionario1 = 1000\n",
    "vendas_funcionario2 = 770\n",
    "vendas_funcionario3 = 2700\n",
    "\n",
    "if vendas_funcionario1 >= meta:\n",
    "    bonus = 0.1 * vendas_funcionario1\n",
    "    print ('O funcionário 1 ganhou {}'.format(bonus))\n",
    "else:\n",
    "    print(\"O funcionário 1 não recebe bônus\")\n",
    "    \n",
    "if vendas_funcionario2 >= meta:\n",
    "        bonus = 0.1 * vendas_funcionario2\n",
    "        print ('O funcionário 2 ganhou {}'.format(bonus))\n",
    "else:    \n",
    "     print(\"O funcionário 2 não recebe bônus\")\n",
    "        \n",
    "if vendas_funcionario3 >= meta:\n",
    "        bonus = 0.1 * vendas_funcionario3\n",
    "        print ('O funcionário 3 ganhou {}'.format(bonus))\n",
    "else:\n",
    "    print(\"O funcionário 3 não recebe bônus\")\n",
    "        "
   ]
  },
  {
   "cell_type": "raw",
   "metadata": {
    "id": "vyEi5X8IuKLy"
   },
   "source": [
    "Resposta:\n",
    "O funcionário 1 ganhou 100 de bônus\n",
    "O funcionário 2 ganhou 0 de bônus\n",
    "O funcionário 3 ganhou 270 de bônus"
   ]
  },
  {
   "cell_type": "markdown",
   "metadata": {
    "id": "QK4yVRO9uKLz"
   },
   "source": [
    "## 2. Cálculo de bônus com uma nova regra\n",
    "\n",
    "- Agora, crie um novo código que calcule e dê um print no bônus dos funcionários novamente. Porém há uma nova regra nesse 2º caso:\n",
    "\n",
    "A meta é 1000 vendas<br>\n",
    "Agora, os funcionários que venderem muito acima da meta ganham mais bônus do que os outros. Então o bônus é definido da seguinte forma:<br>\n",
    "\n",
    "- Se vendas funcionário for maior ou igual a 2000, então o bônus é de 15% sobre o valor de vendas\n",
    "- Se vendas funcionário for menor do que 2000 e maior ou igual a 1000, então o bônus é de 10% sobre o valor de vendas\n",
    "- Se vendas funcionário for menos do que 1000 então o bônus do funcionário é de 0.\n",
    "\n",
    "Use as mesmas variáveis de vendas_funcionários"
   ]
  },
  {
   "cell_type": "code",
   "execution_count": 15,
   "metadata": {
    "id": "iOFkypu4uKLz"
   },
   "outputs": [
    {
     "name": "stdout",
     "output_type": "stream",
     "text": [
      "O bônus do funcionário 1 é de 100.0\n",
      "O bônus do funcionário 2 é de 0\n",
      "O bônus do funcionário 3 é de 405.0\n"
     ]
    }
   ],
   "source": [
    "meta = 1000\n",
    "vendas_funcionario1 = 1000\n",
    "vendas_funcionario2 = 770\n",
    "vendas_funcionario3 = 2700\n",
    "\n",
    "if vendas_funcionario1 >= meta:\n",
    "    if vendas_funcionario1 >= 2*meta:\n",
    "        bonus = 0.15 * vendas_funcionario1\n",
    "        print(\"O bônus do funcionário 1 é de {}\". format(bonus))\n",
    "    \n",
    "    else:\n",
    "        bonus = 0.10 * vendas_funcionario1\n",
    "        print(\"O bônus do funcionário 1 é de {}\". format(bonus))\n",
    "    \n",
    "else: \n",
    "        print (\"O bônus do funcionário 1 é de {}\". format(0))\n",
    "        \n",
    "if vendas_funcionario2 >= meta:\n",
    "    if vendas_funcionario1 >= 2*meta:\n",
    "        bonus = 0.15 * vendas_funcionario2\n",
    "        print(\"O bônus do funcionário 2 é de {}\". format(bonus))\n",
    "    \n",
    "    else:\n",
    "        bonus = 0.10 * vendas_funcionario2\n",
    "        print(\"O bônus do funcionário 2 é de {}\". format(bonus))\n",
    "    \n",
    "else: \n",
    "        print (\"O bônus do funcionário 2 é de {}\". format(0))\n",
    "        \n",
    "if vendas_funcionario3 >= meta:\n",
    "    if vendas_funcionario3 >= 2*meta:\n",
    "        bonus = 0.15 * vendas_funcionario3\n",
    "        print(\"O bônus do funcionário 3 é de {}\". format(bonus))\n",
    "    \n",
    "    else:\n",
    "        bonus = 0.10 * vendas_funcionario1\n",
    "        print(\"O bônus do funcionário 3 é de {}\". format(bonus))\n",
    "    \n",
    "else: \n",
    "        print (\"O bônus do funcionário 3 é de {}\". format(0))\n",
    " \n",
    "   \n",
    "    "
   ]
  },
  {
   "cell_type": "raw",
   "metadata": {
    "id": "g4oGbR2BuKL0"
   },
   "source": [
    "Resposta:\n",
    "O funcionário 1 ganhou 100 de bônus\n",
    "O funcionário 2 ganhou 0 de bônus\n",
    "O funcionário 3 ganhou 405 de bônus"
   ]
  }
 ],
 "metadata": {
  "colab": {
   "include_colab_link": true,
   "name": "05.04.01 Exercícios if.ipynb",
   "provenance": []
  },
  "kernelspec": {
   "display_name": "Python 3 (ipykernel)",
   "language": "python",
   "name": "python3"
  },
  "language_info": {
   "codemirror_mode": {
    "name": "ipython",
    "version": 3
   },
   "file_extension": ".py",
   "mimetype": "text/x-python",
   "name": "python",
   "nbconvert_exporter": "python",
   "pygments_lexer": "ipython3",
   "version": "3.9.7"
  }
 },
 "nbformat": 4,
 "nbformat_minor": 1
}
